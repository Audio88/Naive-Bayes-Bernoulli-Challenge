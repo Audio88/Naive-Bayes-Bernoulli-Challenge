{
 "cells": [
  {
   "cell_type": "code",
   "execution_count": 1,
   "metadata": {
    "collapsed": true
   },
   "outputs": [],
   "source": [
    "%matplotlib inline\n",
    "import numpy as np\n",
    "import pandas as pd\n",
    "import scipy\n",
    "import sklearn\n",
    "import matplotlib.pyplot as plt\n",
    "import seaborn as sns"
   ]
  },
  {
   "cell_type": "code",
   "execution_count": 2,
   "metadata": {
    "collapsed": true
   },
   "outputs": [],
   "source": [
    "df = pd.read_table('amazon_cells_labelled.txt',header=None, names=['message','is_positive'])"
   ]
  },
  {
   "cell_type": "code",
   "execution_count": 3,
   "metadata": {},
   "outputs": [
    {
     "data": {
      "text/html": [
       "<div>\n",
       "<style>\n",
       "    .dataframe thead tr:only-child th {\n",
       "        text-align: right;\n",
       "    }\n",
       "\n",
       "    .dataframe thead th {\n",
       "        text-align: left;\n",
       "    }\n",
       "\n",
       "    .dataframe tbody tr th {\n",
       "        vertical-align: top;\n",
       "    }\n",
       "</style>\n",
       "<table border=\"1\" class=\"dataframe\">\n",
       "  <thead>\n",
       "    <tr style=\"text-align: right;\">\n",
       "      <th></th>\n",
       "      <th>message</th>\n",
       "      <th>is_positive</th>\n",
       "    </tr>\n",
       "  </thead>\n",
       "  <tbody>\n",
       "    <tr>\n",
       "      <th>0</th>\n",
       "      <td>So there is no way for me to plug it in here i...</td>\n",
       "      <td>0</td>\n",
       "    </tr>\n",
       "    <tr>\n",
       "      <th>1</th>\n",
       "      <td>Good case, Excellent value.</td>\n",
       "      <td>1</td>\n",
       "    </tr>\n",
       "    <tr>\n",
       "      <th>2</th>\n",
       "      <td>Great for the jawbone.</td>\n",
       "      <td>1</td>\n",
       "    </tr>\n",
       "    <tr>\n",
       "      <th>3</th>\n",
       "      <td>Tied to charger for conversations lasting more...</td>\n",
       "      <td>0</td>\n",
       "    </tr>\n",
       "    <tr>\n",
       "      <th>4</th>\n",
       "      <td>The mic is great.</td>\n",
       "      <td>1</td>\n",
       "    </tr>\n",
       "  </tbody>\n",
       "</table>\n",
       "</div>"
      ],
      "text/plain": [
       "                                             message  is_positive\n",
       "0  So there is no way for me to plug it in here i...            0\n",
       "1                        Good case, Excellent value.            1\n",
       "2                             Great for the jawbone.            1\n",
       "3  Tied to charger for conversations lasting more...            0\n",
       "4                                  The mic is great.            1"
      ]
     },
     "execution_count": 3,
     "metadata": {},
     "output_type": "execute_result"
    }
   ],
   "source": [
    "df.head()"
   ]
  },
  {
   "cell_type": "code",
   "execution_count": 4,
   "metadata": {},
   "outputs": [
    {
     "data": {
      "text/plain": [
       "False"
      ]
     },
     "execution_count": 4,
     "metadata": {},
     "output_type": "execute_result"
    }
   ],
   "source": [
    "df.isnull().values.any()"
   ]
  },
  {
   "cell_type": "code",
   "execution_count": 5,
   "metadata": {
    "collapsed": true
   },
   "outputs": [],
   "source": [
    "keywords = ['Good', 'Bad', 'Excellent', 'Great', 'Best', 'Love', 'Loved', 'Happy', \n",
    "            'Nice', 'Easy', 'Very well', 'Broke', 'Broken', 'Not', 'Recommend', 'Worst']\n",
    "\n",
    "for key in keywords:\n",
    "    df[str(key)] = df.message.str.contains('(?:(?<=^)|(?<=\\s))' + str(key) + '(?=$|[,.!]|\\s)', case=False)"
   ]
  },
  {
   "cell_type": "markdown",
   "metadata": {},
   "source": [
    "Here we're extracting features to use for our Naive Bayes Bournelli Model using keywords. These keywords we will use in the model to predict if the review is positive or negative."
   ]
  },
  {
   "cell_type": "code",
   "execution_count": 6,
   "metadata": {},
   "outputs": [
    {
     "data": {
      "image/png": "[encoded data removed]",
      "text/plain": [
       "<matplotlib.figure.Figure at 0x1ebd3edfeb8>"
      ]
     },
     "metadata": {},
     "output_type": "display_data"
    }
   ],
   "source": [
    "#Doing a heat map of our independent variables\n",
    "fig, ax = plt.subplots(figsize=(15,12)) \n",
    "sns.heatmap(df[keywords].corr())\n",
    "plt.show()"
   ]
  },
  {
   "cell_type": "markdown",
   "metadata": {},
   "source": [
    "Making sure our variables have low correlation so they work well with our model."
   ]
  },
  {
   "cell_type": "code",
   "execution_count": 7,
   "metadata": {},
   "outputs": [],
   "source": [
    "#Setting outcome target and independent variables\n",
    "data = df[keywords]\n",
    "target = df['is_positive']\n",
    "\n",
    "#Running Naive Bayes Bernoulli with 3 folds\n",
    "from sklearn.naive_bayes import BernoulliNB\n",
    "from sklearn.model_selection import StratifiedKFold\n",
    "\n",
    "skf = StratifiedKFold(n_splits=3)\n",
    "bnb = BernoulliNB()\n",
    "y_pred = []\n",
    "for train, test in skf.split(data, target):\n",
    "    data_train, data_test = data.iloc[train], data.iloc[test]\n",
    "    target_train, target_test = target.iloc[train], target.iloc[test]\n",
    "    bnb.fit(data_train, target_train)\n",
    "    y_pred.extend(bnb.predict(data_test))\n"
   ]
  },
  {
   "cell_type": "code",
   "execution_count": 8,
   "metadata": {
    "scrolled": true
   },
   "outputs": [
    {
     "name": "stdout",
     "output_type": "stream",
     "text": [
      "[[471  29]\n",
      " [250 250]]\n",
      "\n",
      "False Positive:29\n",
      "False Negative:250\n",
      "Sensitivity:250\n",
      "Specificity:471\n",
      "Accuracy: 0.721\n"
     ]
    }
   ],
   "source": [
    "# Calculating confusion matrix.\n",
    "from sklearn.metrics import confusion_matrix\n",
    "print(confusion_matrix(target, y_pred))\n",
    "\n",
    "df['y_pred'] = y_pred\n",
    "\n",
    "fp = df.loc[(df['is_positive'] ==False) & (df['y_pred'] == True)].shape[0]\n",
    "fn = df.loc[(df['is_positive'] ==True) & (df['y_pred'] == False)].shape[0]\n",
    "sense = df.loc[(df['is_positive'] ==True) & (df['y_pred'] == True)].shape[0]\n",
    "spec = df.loc[(df['is_positive'] ==False) & (df['y_pred'] == False)].shape[0]\n",
    "\n",
    "print('\\nFalse Positive:{}\\nFalse Negative:{}\\nSensitivity:{}\\nSpecificity:{}'.format(fp,fn,sense,spec))\n",
    "\n",
    "print('Accuracy:',(target == y_pred).sum() / data.shape[0])"
   ]
  },
  {
   "cell_type": "code",
   "execution_count": 9,
   "metadata": {},
   "outputs": [
    {
     "name": "stdout",
     "output_type": "stream",
     "text": [
      "Number of mislabeled points out of a total 748 points : 314\n",
      "\n",
      "[[ 72 290]\n",
      " [ 24 362]]\n",
      "Accuracy: 0.580213903743\n"
     ]
    }
   ],
   "source": [
    "#Running model on IMDB data set\n",
    "imdb_df = pd.read_table('imdb_labelled.txt',header=None, names=['message','is_positive'])\n",
    "\n",
    "for key in keywords:\n",
    "    imdb_df[str(key)] = imdb_df.message.str.contains('(?:(?<=^)|(?<=\\s))' + str(key) + '(?=$|[,.!]|\\s)', case=False)\n",
    "\n",
    "#Setting outcome target and independent variables\n",
    "data = imdb_df[keywords]\n",
    "target = imdb_df['is_positive']\n",
    "\n",
    "#Running Naive Bayes Bernoulli with 3 folds\n",
    "from sklearn.naive_bayes import BernoulliNB\n",
    "from sklearn.model_selection import StratifiedKFold\n",
    "\n",
    "skf = StratifiedKFold(n_splits=3)\n",
    "bnb = BernoulliNB()\n",
    "y_pred = []\n",
    "for train, test in skf.split(data, target):\n",
    "    data_train, data_test = data.iloc[train], data.iloc[test]\n",
    "    target_train, target_test = target.iloc[train], target.iloc[test]\n",
    "    bnb.fit(data_train, target_train)\n",
    "    y_pred.extend(bnb.predict(data_test))\n",
    "\n",
    "print(\"Number of mislabeled points out of a total {} points : {}\\n\".format(\n",
    "    data.shape[0],\n",
    "    (target != y_pred).sum()\n",
    "))\n",
    "\n",
    "# Calculating confusion matrix and accuracy.\n",
    "from sklearn.metrics import confusion_matrix\n",
    "print(confusion_matrix(target, y_pred))\n",
    "print('Accuracy:',(target == y_pred).sum() / data.shape[0])"
   ]
  },
  {
   "cell_type": "code",
   "execution_count": 10,
   "metadata": {
    "scrolled": true
   },
   "outputs": [
    {
     "name": "stdout",
     "output_type": "stream",
     "text": [
      "Number of mislabeled points out of a total 1000 points : 362\n",
      "\n",
      "[[455  45]\n",
      " [317 183]]\n",
      "Accuracy: 0.638\n"
     ]
    }
   ],
   "source": [
    "#Running model on Yelp data set\n",
    "yelp_df = pd.read_table('yelp_labelled.txt',header=None, names=['message','is_positive'])\n",
    "\n",
    "for key in keywords:\n",
    "    yelp_df[str(key)] = yelp_df.message.str.contains('(?:(?<=^)|(?<=\\s))' + str(key) + '(?=$|[,.!]|\\s)', case=False)\n",
    "\n",
    "#Setting outcome target and independent variables\n",
    "data = yelp_df[keywords]\n",
    "target = yelp_df['is_positive']\n",
    "\n",
    "#Running Naive Bayes Bernoulli with 3 folds\n",
    "from sklearn.naive_bayes import BernoulliNB\n",
    "from sklearn.model_selection import StratifiedKFold\n",
    "\n",
    "skf = StratifiedKFold(n_splits=3)\n",
    "bnb = BernoulliNB()\n",
    "y_pred = []\n",
    "for train, test in skf.split(data, target):\n",
    "    data_train, data_test = data.iloc[train], data.iloc[test]\n",
    "    target_train, target_test = target.iloc[train], target.iloc[test]\n",
    "    bnb.fit(data_train, target_train)\n",
    "    y_pred.extend(bnb.predict(data_test))\n",
    "\n",
    "print(\"Number of mislabeled points out of a total {} points : {}\\n\".format(\n",
    "    data.shape[0],\n",
    "    (target != y_pred).sum()\n",
    "))\n",
    "\n",
    "# Calculating confusion matrix and accuracy.\n",
    "from sklearn.metrics import confusion_matrix\n",
    "print(confusion_matrix(target, y_pred))\n",
    "print('Accuracy:',(target == y_pred).sum() / data.shape[0])"
   ]
  },
  {
   "cell_type": "markdown",
   "metadata": {},
   "source": [
    "### Do any of your classifiers seem to overfit?\n",
    "\n",
    "Yes my original classifier for the amazon db was overfit. Had a few keywords with only a couple of counts, and those features didn't translate to data that wasn't trained.\n",
    "\n",
    "### Which seem to perform the best? Why?\n",
    "\n",
    "Features and keywords with more counts had a tendency to perform well on data that wasn't trained. They also need to be keywords which were more general and strongly postive or negative.\n",
    "\n",
    "### What features seemed to be most impactful to performance?\n",
    "\n",
    "'Not' and 'Excellent' features both gave me about 1.5% to 3% accuracy across all three data sets. Also regex helped improved performance of keywords.\n",
    "\n",
    "Had the most trouble with False negatives. Looking at the data they lacked potential keywords."
   ]
  }
 ],
 "metadata": {
  "kernelspec": {
   "display_name": "Python 3",
   "language": "python",
   "name": "python3"
  },
  "language_info": {
   "codemirror_mode": {
    "name": "ipython",
    "version": 3
   },
   "file_extension": ".py",
   "mimetype": "text/x-python",
   "name": "python",
   "nbconvert_exporter": "python",
   "pygments_lexer": "ipython3",
   "version": "3.6.3"
  }
 },
 "nbformat": 4,
 "nbformat_minor": 2
}
